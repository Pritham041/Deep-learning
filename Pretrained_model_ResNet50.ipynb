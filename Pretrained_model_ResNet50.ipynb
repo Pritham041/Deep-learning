{
  "nbformat": 4,
  "nbformat_minor": 0,
  "metadata": {
    "colab": {
      "provenance": [],
      "authorship_tag": "ABX9TyN/g/V0vL+/71jNeqJ0UPIe",
      "include_colab_link": true
    },
    "kernelspec": {
      "name": "python3",
      "display_name": "Python 3"
    },
    "language_info": {
      "name": "python"
    }
  },
  "cells": [
    {
      "cell_type": "markdown",
      "metadata": {
        "id": "view-in-github",
        "colab_type": "text"
      },
      "source": [
        "<a href=\"https://colab.research.google.com/github/Pritham041/Deep-learning/blob/main/Pretrained_model_ResNet50.ipynb\" target=\"_parent\"><img src=\"https://colab.research.google.com/assets/colab-badge.svg\" alt=\"Open In Colab\"/></a>"
      ]
    },
    {
      "cell_type": "code",
      "execution_count": 3,
      "metadata": {
        "id": "8oebon9rG9_A"
      },
      "outputs": [],
      "source": [
        "import tensorflow\n",
        "from tensorflow import keras\n",
        "from keras.applications import ResNet50\n",
        "from keras.preprocessing import image\n",
        "from keras.applications.resnet50 import preprocess_input, decode_predictions"
      ]
    },
    {
      "cell_type": "code",
      "source": [
        "model = ResNet50(weights='imagenet')"
      ],
      "metadata": {
        "colab": {
          "base_uri": "https://localhost:8080/"
        },
        "id": "ZG_exCqDHa92",
        "outputId": "f87b6472-de56-472c-848c-b55ca48c8341"
      },
      "execution_count": 4,
      "outputs": [
        {
          "output_type": "stream",
          "name": "stdout",
          "text": [
            "Downloading data from https://storage.googleapis.com/tensorflow/keras-applications/resnet/resnet50_weights_tf_dim_ordering_tf_kernels.h5\n",
            "\u001b[1m102967424/102967424\u001b[0m \u001b[32m━━━━━━━━━━━━━━━━━━━━\u001b[0m\u001b[37m\u001b[0m \u001b[1m0s\u001b[0m 0us/step\n"
          ]
        }
      ]
    },
    {
      "cell_type": "code",
      "source": [
        "import numpy as np\n",
        "img_path = \"/content/Images/_0_9853.png\"\n",
        "img = image.load_img(img_path, target_size=(224, 224))\n",
        "img = image.img_to_array(img)\n",
        "img = np.expand_dims(img, axis=0)\n",
        "img = preprocess_input(img)"
      ],
      "metadata": {
        "id": "rFfLgR-sIz25"
      },
      "execution_count": 6,
      "outputs": []
    },
    {
      "cell_type": "code",
      "source": [
        "predict = model.predict(img)\n",
        "print(\"Predicted :\",decode_predictions(predict, top=10)[0])"
      ],
      "metadata": {
        "colab": {
          "base_uri": "https://localhost:8080/"
        },
        "id": "Tol-vziMJXoj",
        "outputId": "3e28ab88-97c8-4e0b-f825-8f9d1dd7acf5"
      },
      "execution_count": 13,
      "outputs": [
        {
          "output_type": "stream",
          "name": "stdout",
          "text": [
            "\u001b[1m1/1\u001b[0m \u001b[32m━━━━━━━━━━━━━━━━━━━━\u001b[0m\u001b[37m\u001b[0m \u001b[1m0s\u001b[0m 223ms/step\n",
            "Predicted : [('n02123045', 'tabby', np.float32(0.29437697)), ('n02123159', 'tiger_cat', np.float32(0.1429952)), ('n01797886', 'ruffed_grouse', np.float32(0.054117702)), ('n02129604', 'tiger', np.float32(0.05303727)), ('n02128925', 'jaguar', np.float32(0.052190263)), ('n02124075', 'Egyptian_cat', np.float32(0.040887658)), ('n01685808', 'whiptail', np.float32(0.040429574)), ('n02128757', 'snow_leopard', np.float32(0.029864607)), ('n02128385', 'leopard', np.float32(0.021522686)), ('n04589890', 'window_screen', np.float32(0.012611947))]\n"
          ]
        }
      ]
    },
    {
      "cell_type": "code",
      "source": [],
      "metadata": {
        "id": "MP57_FpxJsQ6"
      },
      "execution_count": null,
      "outputs": []
    }
  ]
}